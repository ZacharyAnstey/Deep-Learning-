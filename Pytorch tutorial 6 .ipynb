{
 "cells": [
  {
   "cell_type": "markdown",
   "id": "f0a7874d",
   "metadata": {},
   "source": [
    "# Automatic Differentiation with Torch.AUTOGRAD\n",
    "When trining neural networks, the most frequently used algorithm is back propagation. In this algorithm, parameters are adjucted according to the gradient of the loss function with respect to the given parameter. To compue those gradients, PyTorch has a built in differentiation engine called torch.autograd. It supports automatic computation of gradient for any computational graph. Consider the simplest one-Layer neural network, with input x, parameters w and b and some loss function. It can be defined in PyTorch in the following manner"
   ]
  },
  {
   "cell_type": "code",
   "execution_count": 1,
   "id": "462c1696",
   "metadata": {},
   "outputs": [],
   "source": [
    "import torch \n",
    "x = torch.ones(5) # input tensor\n",
    "y = torch.zeros(3) # exected output\n",
    "w = torch.randn(5,3,requires_grad=True)\n",
    "b = torch.randn(3,requires_grad=True)\n",
    "z = torch.matmul(x,w)+b\n",
    "loss = torch.nn.functional.binary_cross_entropy_with_logits(z,y)"
   ]
  },
  {
   "cell_type": "markdown",
   "id": "05e8ad1f",
   "metadata": {},
   "source": [
    "## Tensors,Functions and Computational graph\n",
    "you can set the value of requires_grad when creating a tensor, or later by using x.requires_grad_(True) method. Afunctio that we apply to tensors to construct computational graph is in fact an object of class Function. This object knows how to compute the function in the forward direction, and also how to compute its derivative during the backpropagation step. A reference to the backward propagation function is stores in grad_fn propery of a tensor. "
   ]
  },
  {
   "cell_type": "code",
   "execution_count": 4,
   "id": "c7662da3",
   "metadata": {},
   "outputs": [
    {
     "name": "stdout",
     "output_type": "stream",
     "text": [
      "Gradient function for z = <AddBackward0 object at 0x000001CA9D8CAEB0>\n",
      "Gradient function for loss =  <BinaryCrossEntropyWithLogitsBackward object at 0x000001CA9D8CAE20>\n"
     ]
    }
   ],
   "source": [
    "print('Gradient function for z =', z.grad_fn)\n",
    "print('Gradient function for loss = ',loss.grad_fn)"
   ]
  },
  {
   "cell_type": "markdown",
   "id": "aa4d57e7",
   "metadata": {},
   "source": [
    "## Note \n",
    "We can only obtain the grad properties for the leaf noedes of the computtional graph, which have requires_grad property set to True. For all other nodes in our graph, gradients will now be available . We can only perfrom gradient calculations using backward once on a given graph, for performacne resons. If we need to do several backward calls on the same graph, we need to pass reatin_graph=True to the backward call"
   ]
  },
  {
   "cell_type": "markdown",
   "id": "8a64caf4",
   "metadata": {},
   "source": [
    "## Disabling Gradient Tracking \n",
    "By default, all tensors wil requires_grad = True are tracking their computational history and support gradient computation. However, there are some cases when we do not need to do that, for example, when we have trained the model and just want to apply it to some input data, i.e we only want to do forward computations through the network. We can stop tracking computations by surrounding or computation code with torch.no_grad() block"
   ]
  },
  {
   "cell_type": "code",
   "execution_count": 5,
   "id": "5409f55f",
   "metadata": {},
   "outputs": [
    {
     "name": "stdout",
     "output_type": "stream",
     "text": [
      "True\n",
      "False\n"
     ]
    }
   ],
   "source": [
    "z = torch.matmul(x,w)+b\n",
    "print(z.requires_grad)\n",
    "with torch.no_grad():\n",
    "    z = torch.matmul(x,w)+b\n",
    "print(z.requires_grad)"
   ]
  },
  {
   "cell_type": "markdown",
   "id": "5207e6e3",
   "metadata": {},
   "source": [
    "Another way to achieve the same result is to use the detech() method on the tensor "
   ]
  },
  {
   "cell_type": "code",
   "execution_count": 6,
   "id": "a760ef60",
   "metadata": {},
   "outputs": [
    {
     "name": "stdout",
     "output_type": "stream",
     "text": [
      "False\n"
     ]
    }
   ],
   "source": [
    "z = torch.matmul(x,w)+b\n",
    "z_det = z.detach()\n",
    "print(z_det.requires_grad)"
   ]
  },
  {
   "cell_type": "markdown",
   "id": "9b316737",
   "metadata": {},
   "source": [
    "There are reasons you might want to disable gradient checking. To mark some parameters in your neural network at frozen parameters. This is a very common scenario for finetuning a pretrained netwwork. T speed up computations when you are only doing forward pass, because computations on terms that do not track gradients would be more efficient "
   ]
  },
  {
   "cell_type": "markdown",
   "id": "184ac58f",
   "metadata": {},
   "source": [
    "# More on Computational Graphs\n",
    "Conceptually, autograd keeps a record of data and all executed operations in a directed acyclic graph consisting of Function objects. In this DAG, leaves are the input tensors roots are the output tensors. By traching this graph from roots to leaves, you can auomatically compute the gradients using the charin rule. In a forward pass autograd does two things simultaneously: run the requested operation to compute a reauling tensor. Maintaining the operations gradient function in the DAG. The backward pass kicks off when .backward() is called on the DAG root. autograd then: computes the gradients from each .grad_fn, accumuated them in the respective tensors .grad attribute. Using the chain tule propagates all the way to the leaf tensors. \n",
    "## Note\n",
    "\n",
    "DAGs are dynamic in PyTorch An important thing to note is that the graph is recreated from scratch; after each .backward() call, autograd starts population a new graph. This is exactly what allows you to use control flow statements in your model; you can change the shape, size and operations at every iteration if needed.\n",
    "# Optional Reading: Tensor Gradients and Jacobian Products \n",
    "In many cases, we have a scalar loss function, and we need to compute the gradient with respect to some parameters. Howver, there are cases when the output function is an arbitary tensor. In this case, PyTorch allows you to compute so-called Jacobian prodduct and not the actual gradient. "
   ]
  },
  {
   "cell_type": "code",
   "execution_count": 7,
   "id": "ec32f068",
   "metadata": {},
   "outputs": [
    {
     "name": "stdout",
     "output_type": "stream",
     "text": [
      "First call\n",
      " tensor([[4., 2., 2., 2., 2.],\n",
      "        [2., 4., 2., 2., 2.],\n",
      "        [2., 2., 4., 2., 2.],\n",
      "        [2., 2., 2., 4., 2.],\n",
      "        [2., 2., 2., 2., 4.]])\n",
      "\n",
      " Secondcall\n",
      " tensor([[8., 4., 4., 4., 4.],\n",
      "        [4., 8., 4., 4., 4.],\n",
      "        [4., 4., 8., 4., 4.],\n",
      "        [4., 4., 4., 8., 4.],\n",
      "        [4., 4., 4., 4., 8.]])\n",
      "\n",
      " Call after zeroing gradients \n",
      " tensor([[4., 2., 2., 2., 2.],\n",
      "        [2., 4., 2., 2., 2.],\n",
      "        [2., 2., 4., 2., 2.],\n",
      "        [2., 2., 2., 4., 2.],\n",
      "        [2., 2., 2., 2., 4.]])\n"
     ]
    }
   ],
   "source": [
    "inp = torch.eye(5, requires_grad=True)\n",
    "out = (inp+1).pow(2)\n",
    "out.backward(torch.ones_like(inp),retain_graph=True)\n",
    "print('First call\\n',inp.grad)\n",
    "out.backward(torch.ones_like(inp),retain_graph=True)\n",
    "print('\\n Secondcall\\n',inp.grad)\n",
    "inp.grad.zero_()\n",
    "out.backward(torch.ones_like(inp),retain_graph=True)\n",
    "print('\\n Call after zeroing gradients \\n',inp.grad)"
   ]
  },
  {
   "cell_type": "markdown",
   "id": "84e48249",
   "metadata": {},
   "source": [
    "Notice that when we call backward for the second time with the same argument, the value of the gradient is different. This happens because when doing backward propagation, PyTorch accumulates the gradients, i.e the value of computed gradients is added to the grad property of all leaf nodes of computational graph. If you want to compue the proper gradients you need to zero out the grad property before. In real life training an optimizer helps us to do this. \n",
    "## Note: \n",
    "Previously we were calling backward() function without parameters. This is essentially equivalent to calling backward(torch.tensor(1.0)), which is a useful way to compue the gradients in case of a scalr-valued function such as loss during training a neural network "
   ]
  },
  {
   "cell_type": "code",
   "execution_count": null,
   "id": "944453de",
   "metadata": {},
   "outputs": [],
   "source": []
  }
 ],
 "metadata": {
  "kernelspec": {
   "display_name": "Python 3",
   "language": "python",
   "name": "python3"
  },
  "language_info": {
   "codemirror_mode": {
    "name": "ipython",
    "version": 3
   },
   "file_extension": ".py",
   "mimetype": "text/x-python",
   "name": "python",
   "nbconvert_exporter": "python",
   "pygments_lexer": "ipython3",
   "version": "3.9.4"
  }
 },
 "nbformat": 4,
 "nbformat_minor": 5
}
