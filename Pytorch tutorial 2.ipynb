{
 "cells": [
  {
   "cell_type": "markdown",
   "id": "ff04880b",
   "metadata": {},
   "source": [
    "# Tensors \n",
    "Tensors are a data strcuture that are similar to matrices. In pytorch we use tensors to encode  the inputs and outputs of a model, as well as the models parameters . \n"
   ]
  },
  {
   "cell_type": "markdown",
   "id": "58917810",
   "metadata": {},
   "source": [
    "Tensors are similar to Numpys ndarrays except that tensors can run on GPUs.Tenssors and NumPy arrays can often share the same underyling memory, eliminating the need to copy data. Tensors are also optimized for automatic differentiation. If you are family with ndarrays, you will be right at home with the Tensor API,"
   ]
  },
  {
   "cell_type": "code",
   "execution_count": 1,
   "id": "b9fd65a3",
   "metadata": {},
   "outputs": [],
   "source": [
    "import torch \n",
    "import numpy as np"
   ]
  },
  {
   "cell_type": "markdown",
   "id": "4581bab8",
   "metadata": {},
   "source": [
    "## Initializing a Tensor \n",
    "Tensors can be initizalized in various ways. \n",
    "### Directly from data \n",
    "Tensors can be created directly from data. The data type is automatically infrerred \n"
   ]
  },
  {
   "cell_type": "code",
   "execution_count": 2,
   "id": "1cf54fd8",
   "metadata": {},
   "outputs": [],
   "source": [
    "data = [[1,2],[3,4]]\n",
    "x_data = torch.tensor(data)"
   ]
  },
  {
   "cell_type": "markdown",
   "id": "37ae0260",
   "metadata": {},
   "source": [
    "### From a Numpy array\n",
    "Tensors can e created from NumPy arrays \n",
    "\n",
    "\n"
   ]
  },
  {
   "cell_type": "code",
   "execution_count": 3,
   "id": "90739d48",
   "metadata": {},
   "outputs": [],
   "source": [
    "np_array = np.array(data)\n",
    "x_np = torch.from_numpy(np_array)"
   ]
  },
  {
   "cell_type": "markdown",
   "id": "74bbefe9",
   "metadata": {},
   "source": [
    "### From another tensor \n",
    "The new tensor retains the properties of the argument tensor unless explicitly overridden "
   ]
  },
  {
   "cell_type": "code",
   "execution_count": 5,
   "id": "36a12eac",
   "metadata": {},
   "outputs": [
    {
     "name": "stdout",
     "output_type": "stream",
     "text": [
      "Ones Tensor: \n",
      " tensor([[1, 1],\n",
      "        [1, 1]]) \n",
      "\n",
      "Random Tensor: \n",
      " tensor([[0.9296, 0.7413],\n",
      "        [0.7353, 0.5642]]) \n",
      "\n"
     ]
    }
   ],
   "source": [
    "x_ones = torch.ones_like(x_data)\n",
    "print(f\"Ones Tensor: \\n {x_ones} \\n\")\n",
    "\n",
    "x_rand = torch.rand_like(x_data, dtype=torch.float)\n",
    "print(f\"Random Tensor: \\n {x_rand} \\n\")"
   ]
  },
  {
   "cell_type": "markdown",
   "id": "10911885",
   "metadata": {},
   "source": [
    "### With random or constant values \n",
    "Shape is a tuple of tensor dimensions. In the functions below it, it determines the dimensionality of the output tensor \n"
   ]
  },
  {
   "cell_type": "code",
   "execution_count": 6,
   "id": "2ccc9a14",
   "metadata": {},
   "outputs": [
    {
     "name": "stdout",
     "output_type": "stream",
     "text": [
      "Random Tensor: \n",
      " tensor([[0.1963, 0.8047, 0.6711],\n",
      "        [0.9783, 0.2881, 0.5366]]) \n",
      "\n",
      "Ones Tensor: \n",
      " tensor([[1., 1., 1.],\n",
      "        [1., 1., 1.]]) \n",
      "\n",
      "Zeros Tensor: \n",
      " tensor([[0., 0., 0.],\n",
      "        [0., 0., 0.]]) \n",
      "\n"
     ]
    }
   ],
   "source": [
    "shape = (2,3,)\n",
    "rand_tensor = torch.rand(shape)\n",
    "ones_tensor = torch.ones(shape)\n",
    "zeros_tensor = torch.zeros(shape)\n",
    "\n",
    "print(f\"Random Tensor: \\n {rand_tensor} \\n\")\n",
    "print(f\"Ones Tensor: \\n {ones_tensor} \\n\")\n",
    "print(f\"Zeros Tensor: \\n {zeros_tensor} \\n\")"
   ]
  },
  {
   "cell_type": "markdown",
   "id": "2965682a",
   "metadata": {},
   "source": [
    "### Attributes of a Tensor \n",
    "Tensor attributes descripe their shape, datatypes, and the device on wich they are stored \n"
   ]
  },
  {
   "cell_type": "code",
   "execution_count": 7,
   "id": "d761733a",
   "metadata": {},
   "outputs": [
    {
     "name": "stdout",
     "output_type": "stream",
     "text": [
      "Shape of tensor:torch.Size([3, 4])\n",
      "Datatype of tensor:torch.float32\n",
      "Device tensor is stores on :cpu\n"
     ]
    }
   ],
   "source": [
    "tensor = torch.rand(3,4)\n",
    "print(f\"Shape of tensor:{tensor.shape}\")\n",
    "print(f\"Datatype of tensor:{tensor.dtype}\")\n",
    "print(f\"Device tensor is stores on :{tensor.device}\")\n"
   ]
  },
  {
   "cell_type": "markdown",
   "id": "6ad59431",
   "metadata": {},
   "source": [
    "### Operations on Tensors \n",
    "By default tensors are created on the CPU. We need to explicitly move tensors to the GPU using .to method "
   ]
  },
  {
   "cell_type": "code",
   "execution_count": 8,
   "id": "5c1a653e",
   "metadata": {},
   "outputs": [],
   "source": [
    "# We move our tensor to the GPU if avaiable \n",
    "if torch.cuda.is_available():\n",
    "    tensor = tensor.to('cuda')"
   ]
  },
  {
   "cell_type": "markdown",
   "id": "691c4999",
   "metadata": {},
   "source": [
    "### Standard numpy like indexing and slicing \n"
   ]
  },
  {
   "cell_type": "code",
   "execution_count": 9,
   "id": "281ab630",
   "metadata": {},
   "outputs": [
    {
     "name": "stdout",
     "output_type": "stream",
     "text": [
      "First row: tensor([1., 1., 1., 1.])\n",
      "First column tensor([1., 1., 1., 1.])\n",
      "Last column tensor([1., 1., 1., 1.])\n",
      "tensor([[1., 0., 1., 1.],\n",
      "        [1., 0., 1., 1.],\n",
      "        [1., 0., 1., 1.],\n",
      "        [1., 0., 1., 1.]])\n"
     ]
    }
   ],
   "source": [
    "tensor = torch.ones(4,4)\n",
    "print('First row:',tensor[0])\n",
    "print('First column', tensor[:,0])\n",
    "print('Last column',tensor[...,-1])\n",
    "tensor[:,1] = 0\n",
    "print(tensor)"
   ]
  },
  {
   "cell_type": "markdown",
   "id": "2022e2a3",
   "metadata": {},
   "source": [
    "### Joining tensors \n",
    "You can use torch.cat to concatenate a sequence of tensors along a given dimension"
   ]
  },
  {
   "cell_type": "code",
   "execution_count": 10,
   "id": "c7fe015c",
   "metadata": {},
   "outputs": [
    {
     "name": "stdout",
     "output_type": "stream",
     "text": [
      "tensor([[1., 0., 1., 1., 1., 0., 1., 1., 1., 0., 1., 1.],\n",
      "        [1., 0., 1., 1., 1., 0., 1., 1., 1., 0., 1., 1.],\n",
      "        [1., 0., 1., 1., 1., 0., 1., 1., 1., 0., 1., 1.],\n",
      "        [1., 0., 1., 1., 1., 0., 1., 1., 1., 0., 1., 1.]])\n"
     ]
    }
   ],
   "source": [
    "t1 = torch.cat([tensor, tensor, tensor],dim=1)\n",
    "print(t1)"
   ]
  },
  {
   "cell_type": "markdown",
   "id": "9e1e8e57",
   "metadata": {},
   "source": [
    "### Arithemtic operations "
   ]
  },
  {
   "cell_type": "code",
   "execution_count": 11,
   "id": "a8260832",
   "metadata": {},
   "outputs": [
    {
     "data": {
      "text/plain": [
       "tensor([[3., 3., 3., 3.],\n",
       "        [3., 3., 3., 3.],\n",
       "        [3., 3., 3., 3.],\n",
       "        [3., 3., 3., 3.]])"
      ]
     },
     "execution_count": 11,
     "metadata": {},
     "output_type": "execute_result"
    }
   ],
   "source": [
    "# This computes the matrix multiplication between two tensors \n",
    "y1 = tensor @ tensor.T\n",
    "y2 = tensor.matmul(tensor.T)\n",
    "y3 = torch.rand_like(tensor)\n",
    "torch.matmul(tensor,tensor.T,out=y3)"
   ]
  },
  {
   "cell_type": "code",
   "execution_count": 13,
   "id": "ca99e138",
   "metadata": {},
   "outputs": [
    {
     "data": {
      "text/plain": [
       "tensor([[1., 0., 1., 1.],\n",
       "        [1., 0., 1., 1.],\n",
       "        [1., 0., 1., 1.],\n",
       "        [1., 0., 1., 1.]])"
      ]
     },
     "execution_count": 13,
     "metadata": {},
     "output_type": "execute_result"
    }
   ],
   "source": [
    "# This computes the element wise product \n",
    "z1 = tensor * tensor\n",
    "z2 = tensor.mul(tensor)\n",
    "z3 = torch.rand_like(tensor)\n",
    "torch.mul(tensor,tensor, out=z3)"
   ]
  },
  {
   "cell_type": "markdown",
   "id": "57652a11",
   "metadata": {},
   "source": [
    "### Single element tesors \n",
    "If you have a one element tensor, for example by aggregating all values of a tensor into one value you cn convert it to a python numerical value using item()"
   ]
  },
  {
   "cell_type": "code",
   "execution_count": 14,
   "id": "cf1d059f",
   "metadata": {},
   "outputs": [
    {
     "name": "stdout",
     "output_type": "stream",
     "text": [
      "12.0 <class 'float'>\n"
     ]
    }
   ],
   "source": [
    "agg = tensor.sum()\n",
    "agg_item = agg.item()\n",
    "print(agg_item,type(agg_item))"
   ]
  },
  {
   "cell_type": "markdown",
   "id": "f2789ddb",
   "metadata": {},
   "source": [
    "### In place operations \n",
    "Operations that score the results into the operand are called in place. They are denoted by a _ siffix. "
   ]
  },
  {
   "cell_type": "code",
   "execution_count": 15,
   "id": "5bea0a7b",
   "metadata": {},
   "outputs": [
    {
     "name": "stdout",
     "output_type": "stream",
     "text": [
      "tensor([[1., 0., 1., 1.],\n",
      "        [1., 0., 1., 1.],\n",
      "        [1., 0., 1., 1.],\n",
      "        [1., 0., 1., 1.]]) \n",
      "\n",
      "tensor([[6., 5., 6., 6.],\n",
      "        [6., 5., 6., 6.],\n",
      "        [6., 5., 6., 6.],\n",
      "        [6., 5., 6., 6.]])\n"
     ]
    }
   ],
   "source": [
    "print(tensor,'\\n')\n",
    "tensor.add_(5)\n",
    "print(tensor)"
   ]
  },
  {
   "cell_type": "markdown",
   "id": "5506a850",
   "metadata": {},
   "source": [
    "## Bridge with Numpy \n",
    "Tenser on the CPU and NumPy arrays can share their underlying memory locations, and changing one will change the other \n",
    "### Tensor to NumPy array\n"
   ]
  },
  {
   "cell_type": "code",
   "execution_count": 16,
   "id": "5534631d",
   "metadata": {},
   "outputs": [
    {
     "name": "stdout",
     "output_type": "stream",
     "text": [
      "t: tensor([1., 1., 1., 1., 1.])\n",
      "n:[1. 1. 1. 1. 1.]\n"
     ]
    }
   ],
   "source": [
    "t = torch.ones(5)\n",
    "print(f\"t: {t}\")\n",
    "n = t.numpy()\n",
    "print(f\"n:{n}\")"
   ]
  },
  {
   "cell_type": "markdown",
   "id": "088f4d03",
   "metadata": {},
   "source": [
    "A change in the tensor reflects in the NumPy array\n"
   ]
  },
  {
   "cell_type": "code",
   "execution_count": 17,
   "id": "efa28453",
   "metadata": {},
   "outputs": [
    {
     "name": "stdout",
     "output_type": "stream",
     "text": [
      "t: tensor([2., 2., 2., 2., 2.])\n",
      "n [2. 2. 2. 2. 2.]\n"
     ]
    }
   ],
   "source": [
    "t.add_(1)\n",
    "print(f\"t: {t}\")\n",
    "print(f\"n {n}\")"
   ]
  },
  {
   "cell_type": "markdown",
   "id": "1650f95a",
   "metadata": {},
   "source": [
    "### NumPy array to Tensor \n"
   ]
  },
  {
   "cell_type": "code",
   "execution_count": 19,
   "id": "b9163f4f",
   "metadata": {},
   "outputs": [],
   "source": [
    "n = np.ones(5)\n",
    "t = torch.from_numpy(n)\n"
   ]
  },
  {
   "cell_type": "markdown",
   "id": "c998f23d",
   "metadata": {},
   "source": [
    "Changes in the NumPy array reflects in the tensor "
   ]
  },
  {
   "cell_type": "code",
   "execution_count": 20,
   "id": "a22e679e",
   "metadata": {},
   "outputs": [
    {
     "name": "stdout",
     "output_type": "stream",
     "text": [
      "t:tensor([2., 2., 2., 2., 2.], dtype=torch.float64)\n",
      "n:[2. 2. 2. 2. 2.]\n"
     ]
    }
   ],
   "source": [
    "np.add(n,1,out=n)\n",
    "print(f\"t:{t}\")\n",
    "print(f\"n:{n}\")\n"
   ]
  },
  {
   "cell_type": "code",
   "execution_count": null,
   "id": "178b39f5",
   "metadata": {},
   "outputs": [],
   "source": []
  }
 ],
 "metadata": {
  "kernelspec": {
   "display_name": "Python 3",
   "language": "python",
   "name": "python3"
  },
  "language_info": {
   "codemirror_mode": {
    "name": "ipython",
    "version": 3
   },
   "file_extension": ".py",
   "mimetype": "text/x-python",
   "name": "python",
   "nbconvert_exporter": "python",
   "pygments_lexer": "ipython3",
   "version": "3.9.4"
  }
 },
 "nbformat": 4,
 "nbformat_minor": 5
}
